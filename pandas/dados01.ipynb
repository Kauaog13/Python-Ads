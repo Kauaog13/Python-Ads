{
 "cells": [
  {
   "cell_type": "code",
   "execution_count": 3,
   "metadata": {},
   "outputs": [
    {
     "data": {
      "text/plain": [
       "'DataFrame Criado com os Dados:'"
      ]
     },
     "metadata": {},
     "output_type": "display_data"
    },
    {
     "data": {
      "text/html": [
       "<div>\n",
       "<style scoped>\n",
       "    .dataframe tbody tr th:only-of-type {\n",
       "        vertical-align: middle;\n",
       "    }\n",
       "\n",
       "    .dataframe tbody tr th {\n",
       "        vertical-align: top;\n",
       "    }\n",
       "\n",
       "    .dataframe thead th {\n",
       "        text-align: right;\n",
       "    }\n",
       "</style>\n",
       "<table border=\"1\" class=\"dataframe\">\n",
       "  <thead>\n",
       "    <tr style=\"text-align: right;\">\n",
       "      <th></th>\n",
       "      <th>Nome</th>\n",
       "      <th>Idade</th>\n",
       "      <th>Cidade</th>\n",
       "      <th>Area</th>\n",
       "    </tr>\n",
       "  </thead>\n",
       "  <tbody>\n",
       "    <tr>\n",
       "      <th>0</th>\n",
       "      <td>João Pedro</td>\n",
       "      <td>19</td>\n",
       "      <td>Brasilia</td>\n",
       "      <td>Tecnologia</td>\n",
       "    </tr>\n",
       "    <tr>\n",
       "      <th>1</th>\n",
       "      <td>Maria Cecilia</td>\n",
       "      <td>29</td>\n",
       "      <td>Brasilia</td>\n",
       "      <td>Juridico</td>\n",
       "    </tr>\n",
       "    <tr>\n",
       "      <th>2</th>\n",
       "      <td>Antonio Marques</td>\n",
       "      <td>34</td>\n",
       "      <td>Goiania</td>\n",
       "      <td>Gestão</td>\n",
       "    </tr>\n",
       "    <tr>\n",
       "      <th>3</th>\n",
       "      <td>Ana Paula</td>\n",
       "      <td>47</td>\n",
       "      <td>São Paulo</td>\n",
       "      <td>TI</td>\n",
       "    </tr>\n",
       "  </tbody>\n",
       "</table>\n",
       "</div>"
      ],
      "text/plain": [
       "              Nome  Idade     Cidade        Area\n",
       "0       João Pedro     19   Brasilia  Tecnologia\n",
       "1    Maria Cecilia     29   Brasilia    Juridico\n",
       "2  Antonio Marques     34    Goiania      Gestão\n",
       "3        Ana Paula     47  São Paulo          TI"
      ]
     },
     "metadata": {},
     "output_type": "display_data"
    }
   ],
   "source": [
    "import pandas as pd #Importa a biblioteca Pandas\n",
    "\n",
    "#Cria uma base de dados com linhas e colunas\n",
    "dados = {\n",
    "    'Nome':['João Pedro', 'Maria Cecilia', 'Antonio Marques', 'Ana Paula'],\n",
    "    'Idade':[19,29,34,47],\n",
    "    'Cidade':['Brasilia','Brasilia','Goiania','São Paulo'],\n",
    "    'Area':['Tecnologia','Juridico','Gestão','TI']\n",
    "}\n",
    "\n",
    "#Imprime todos os dados\n",
    "dt = pd.DataFrame(dados)\n",
    "display(\"DataFrame Criado com os Dados:\",dt)"
   ]
  }
 ],
 "metadata": {
  "kernelspec": {
   "display_name": "Python 3",
   "language": "python",
   "name": "python3"
  },
  "language_info": {
   "codemirror_mode": {
    "name": "ipython",
    "version": 3
   },
   "file_extension": ".py",
   "mimetype": "text/x-python",
   "name": "python",
   "nbconvert_exporter": "python",
   "pygments_lexer": "ipython3",
   "version": "3.13.1"
  }
 },
 "nbformat": 4,
 "nbformat_minor": 2
}
